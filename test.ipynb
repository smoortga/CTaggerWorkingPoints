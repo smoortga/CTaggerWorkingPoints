{
 "cells": [
  {
   "cell_type": "markdown",
   "metadata": {},
   "source": [
    "# Charm-tagging working points"
   ]
  },
  {
   "cell_type": "code",
   "execution_count": 59,
   "metadata": {},
   "outputs": [],
   "source": [
    "import os\n",
    "import ROOT\n",
    "import getpass\n",
    "import uproot\n",
    "import awkward\n",
    "import matplotlib.pyplot as plt\n",
    "import pprint\n",
    "import numpy as np\n",
    "from tqdm import tqdm,tqdm_notebook\n",
    "from itertools import permutations\n",
    "from IPython.display import HTML, display"
   ]
  },
  {
   "cell_type": "markdown",
   "metadata": {},
   "source": [
    "### Helper functions"
   ]
  },
  {
   "cell_type": "code",
   "execution_count": null,
   "metadata": {},
   "outputs": [],
   "source": [
    "def tchain(fpath,tpath,branchlist,steps=None):    \n",
    "    return uproot.tree.iterate(path=fpath,\n",
    "                            treepath=tpath,\n",
    "                            branches=branchlist,\n",
    "                            entrysteps=steps)"
   ]
  },
  {
   "cell_type": "markdown",
   "metadata": {},
   "source": [
    "### Grid certificate"
   ]
  },
  {
   "cell_type": "code",
   "execution_count": 2,
   "metadata": {},
   "outputs": [
    {
     "name": "stdout",
     "output_type": "stream",
     "text": [
      "Enter Password········\n"
     ]
    },
    {
     "data": {
      "text/plain": [
       "0"
      ]
     },
     "execution_count": 2,
     "metadata": {},
     "output_type": "execute_result"
    },
    {
     "name": "stdout",
     "output_type": "stream",
     "text": [
      "Enter GRID pass phrase for this identity:Contacting lcg-voms2.cern.ch:15002 [/DC=ch/DC=cern/OU=computers/CN=lcg-voms2.cern.ch] \"cms\"...\n",
      "Remote VOMS server contacted succesfully.\n",
      "\n",
      "\n",
      "Created proxy in /afs/cern.ch/user/s/smoortga/.gridproxy.pem.\n",
      "\n",
      "Your proxy is valid until Wed Oct 14 08:25:28 CEST 2020\n"
     ]
    }
   ],
   "source": [
    "password = getpass.getpass(\"Enter Password for grid certificate: \")\n",
    "#os.system(\"voms-proxy-init -S --rfc --voms cms -valid 192:00\")\n",
    "proxy_cmd = \"voms-proxy-init --rfc --voms cms -valid 192:00\"\n",
    "os.system('echo %s | %s' % (password, proxy_cmd))"
   ]
  },
  {
   "cell_type": "code",
   "execution_count": 46,
   "metadata": {},
   "outputs": [],
   "source": [
    "nfiles = 20\n",
    "files_path = ['root://xrootd-cms.infn.it//store/user/smoortga/BTagServiceWork/CTaggerWPs_2017_UltraLegacy/QCD_Pt_80to120_TuneCP5_13TeV_pythia8_RunIISummer19UL17MiniAOD-106X_mc2017_realistic_v6-v2_MINIAODSIM/QCD_Pt_80to120_TuneCP5_13TeV_pythia8/crab_BTagAnalyzer_CTagWP_2017_UltraLegacy/200116_133349/0000/JetTree_mc_%i.root'%idx for idx in range(1,nfiles+1)]\n",
    "tree_directory = 'btagana/ttree'\n",
    "branches=[\"nJet\",\n",
    "          \"Jet_pt\",\n",
    "          \"Jet_eta\",\n",
    "          'Jet_flavourCleaned',\n",
    "          'Jet_tightID',\n",
    "          'Jet_DeepFlavourBDisc',\n",
    "          'Jet_DeepFlavourCvsLDisc',\n",
    "          'Jet_DeepFlavourCvsBDisc',\n",
    "          'Jet_DeepCSVBDisc',\n",
    "          'Jet_DeepCSVCvsLDisc',\n",
    "          'Jet_DeepCSVCvsBDisc',\n",
    "         ]\n",
    "\n",
    "\n",
    "\n",
    "\n",
    "# n_subtrees = len(list(tchain(files_path,tree_directory,branches) ))\n",
    "# print \"split into %i subtrees.\"%n_subtrees"
   ]
  },
  {
   "cell_type": "code",
   "execution_count": 47,
   "metadata": {},
   "outputs": [
    {
     "name": "stdout",
     "output_type": "stream",
     "text": [
      "running tree number 0\n",
      "running tree number 1\n",
      "running tree number 2\n",
      "running tree number 3\n",
      "running tree number 4\n",
      "running tree number 5\n",
      "running tree number 6\n",
      "running tree number 7\n",
      "running tree number 8\n",
      "running tree number 9\n",
      "running tree number 10\n",
      "running tree number 11\n",
      "running tree number 12\n",
      "running tree number 13\n",
      "running tree number 14\n",
      "running tree number 15\n",
      "running tree number 16\n",
      "running tree number 17\n",
      "running tree number 18\n",
      "running tree number 19\n",
      "running tree number 20\n",
      "running tree number 21\n",
      "running tree number 22\n",
      "running tree number 23\n",
      "running tree number 24\n",
      "running tree number 25\n",
      "running tree number 26\n",
      "running tree number 27\n",
      "running tree number 28\n",
      "running tree number 29\n",
      "running tree number 30\n",
      "running tree number 31\n",
      "running tree number 32\n",
      "running tree number 33\n",
      "Processed 833100 events\n"
     ]
    }
   ],
   "source": [
    "trees = tchain(files_path,tree_directory,branches) \n",
    "taggers = ['Jet_DeepFlavourBDisc',\n",
    "           'Jet_DeepFlavourCvsLDisc',\n",
    "           'Jet_DeepFlavourCvsBDisc',\n",
    "           'Jet_DeepCSVBDisc',\n",
    "           'Jet_DeepCSVCvsLDisc',\n",
    "           'Jet_DeepCSVCvsBDisc',\n",
    "          ]\n",
    "flavours = [\"b\",\"c\",\"l\"]\n",
    "\n",
    "discriminator_dict = {}\n",
    "for tagger in taggers:\n",
    "    discriminator_dict[tagger]={}\n",
    "    for flav in flavours:\n",
    "        discriminator_dict[tagger][flav]=[]\n",
    "\n",
    "        \n",
    "# for branches in tqdm(trees,\n",
    "#                     total=n_subtrees,\n",
    "#                     desc=\"Progress\"):\n",
    "\n",
    "nevents = 0\n",
    "\n",
    "for idx,branches in enumerate(trees): \n",
    "    print \"running tree number %i\"%idx\n",
    "    nevents += len(branches['nJet'])\n",
    "    #plt.hist(branches['Jet_flavourCleaned'].flatten())\n",
    "    eta_mask = abs(branches['Jet_eta']) < 2.5\n",
    "    pt_mask = branches['Jet_pt'] > 20\n",
    "    jetID_mask = branches['Jet_tightID'] == 1\n",
    "    flavour_mask={}\n",
    "    for flav in flavours:\n",
    "        if flav == \"b\": flavour_mask[flav] = branches['Jet_flavourCleaned'] == 5\n",
    "        elif flav == \"c\": flavour_mask[flav] = branches['Jet_flavourCleaned'] == 4\n",
    "        elif flav == \"l\": flavour_mask[flav] = (branches['Jet_flavourCleaned'] >= 0) * (branches['Jet_flavourCleaned'] != 4) * (branches['Jet_flavourCleaned'] != 5)\n",
    "    \n",
    "    \n",
    "    \n",
    "    for tagger in taggers:\n",
    "        for flav in flavours:\n",
    "            array_tmp = np.asarray(branches[tagger][eta_mask & pt_mask & jetID_mask & flavour_mask[flav]].flatten())\n",
    "            discriminator_dict[tagger][flav] = np.concatenate((discriminator_dict[tagger][flav],array_tmp))\n",
    "\n",
    "\n",
    "#pprint.pprint(discriminator_dict)\n",
    "print \"Processed %i events\"%nevents"
   ]
  },
  {
   "cell_type": "markdown",
   "metadata": {},
   "source": [
    "### Calculating efficiency maps for different cuts"
   ]
  },
  {
   "cell_type": "code",
   "execution_count": 98,
   "metadata": {},
   "outputs": [
    {
     "name": "stdout",
     "output_type": "stream",
     "text": [
      "DeepCSV loose\n",
      "DeepCSV medium\n",
      "DeepCSV tight\n",
      "DeepFlavour loose\n",
      "DeepFlavour medium\n",
      "DeepFlavour tight\n"
     ]
    },
    {
     "data": {
      "text/html": [
       "<table><tr><td>Tagger</td><td>WP</td><td>cut CvsL</td><td>cut CvsB</td><td>Eff charm</td><td>Eff bottom</td><td>Eff light</td></tr><tr><td>DeepCSV</td><td>loose</td><td>0.000</td><td>0.324</td><td>90.9%</td><td>35.0%</td><td>89.8%</td></tr><tr><td></td><td>medium</td><td>0.157</td><td>0.351</td><td>53.8%</td><td>25.0%</td><td>25.0%</td></tr><tr><td></td><td>tight</td><td>0.347</td><td>0.231</td><td>35.2%</td><td>25.0%</td><td>5.0%</td></tr><tr><td></td><td></td><td></td><td></td><td></td><td></td><td></td></tr><tr><td>DeepJet</td><td>loose</td><td>0.033</td><td>0.282</td><td>92.7%</td><td>35.0%</td><td>90.0%</td></tr><tr><td></td><td>medium</td><td>0.095</td><td>0.335</td><td>56.7%</td><td>25.0%</td><td>25.0%</td></tr><tr><td></td><td>tight</td><td>0.203</td><td>0.223</td><td>40.2%</td><td>25.0%</td><td>5.0%</td></tr></table>"
      ],
      "text/plain": [
       "<IPython.core.display.HTML object>"
      ]
     },
     "metadata": {},
     "output_type": "display_data"
    }
   ],
   "source": [
    "min_val = 0\n",
    "max_val = 1\n",
    "precision = 0.0001\n",
    "\n",
    "\n",
    "out_dict = {}\n",
    "\n",
    "\n",
    "def distance(current,target):\n",
    "    return np.sqrt((current[0]-target[0])**2+(current[1]-target[1])**2)\n",
    "\n",
    "\n",
    "wp_arr = [\n",
    "    [\"loose\",[0.9,0.35]],\n",
    "    [\"medium\",[0.25,0.25]],\n",
    "    [\"tight\",[0.05,0.25]]\n",
    "]\n",
    "\n",
    "for tagger in [\"DeepCSV\",\"DeepFlavour\"]:\n",
    "    out_dict[tagger]={}\n",
    "    for wp,wp_mistag in wp_arr:\n",
    "        out_dict[tagger][wp]={}\n",
    "        \n",
    "        stepsize=0.1\n",
    "        decay = 0.9\n",
    "        max_niter = 500\n",
    "        start_cut = [0.,0.] # CvsL , CvsB\n",
    "        start_mistag = [1.,1.] # mistag light, mistag b\n",
    "        \n",
    "        current_best_cut = start_cut\n",
    "        current_best_mistag = start_mistag\n",
    "        niter=0\n",
    "        curr_tagger = \"CvsL\"\n",
    "        while distance(current_best_mistag,wp_mistag) > precision:\n",
    "            if curr_tagger == \"CvsL\":\n",
    "                if current_best_mistag[0]>wp_mistag[0]: current_best_cut=[min(current_best_cut[0]+stepsize,max_val),current_best_cut[1]]\n",
    "                elif current_best_mistag[0]<wp_mistag[0]:current_best_cut=[max(current_best_cut[0]-stepsize,min_val),current_best_cut[1]]\n",
    "                curr_tagger = \"CvsB\"\n",
    "\n",
    "            elif curr_tagger == \"CvsB\":\n",
    "                if current_best_mistag[1]>wp_mistag[1]: current_best_cut=[current_best_cut[0],min(current_best_cut[1]+stepsize,max_val)]\n",
    "                elif current_best_mistag[0]<wp_mistag[0]: current_best_cut=[current_best_cut[0],max(current_best_cut[1]-stepsize,min_val)]\n",
    "                curr_tagger = \"CvsL\"\n",
    "\n",
    "\n",
    "            tag_mask_light = (discriminator_dict['Jet_%sCvsLDisc'%tagger]['l']>current_best_cut[0])*(discriminator_dict['Jet_%sCvsBDisc'%tagger]['l']>current_best_cut[1])\n",
    "            all_light = len(discriminator_dict['Jet_%sCvsLDisc'%tagger]['l'])\n",
    "            tagged_light = len(discriminator_dict['Jet_%sCvsLDisc'%tagger]['l'][tag_mask_light])\n",
    "            eff_light = float(tagged_light) / float(all_light)\n",
    "\n",
    "            tag_mask_b = (discriminator_dict['Jet_%sCvsLDisc'%tagger]['b']>current_best_cut[0])*(discriminator_dict['Jet_%sCvsBDisc'%tagger]['b']>current_best_cut[1])\n",
    "            all_b = len(discriminator_dict['Jet_%sCvsLDisc'%tagger]['b'])\n",
    "            tagged_b = len(discriminator_dict['Jet_%sCvsLDisc'%tagger]['b'][tag_mask_b])\n",
    "            eff_b = float(tagged_b) / float(all_b)\n",
    "\n",
    "            tag_mask_c = (discriminator_dict['Jet_%sCvsLDisc'%tagger]['c']>current_best_cut[0])*(discriminator_dict['Jet_%sCvsBDisc'%tagger]['c']>current_best_cut[1])\n",
    "            all_c = len(discriminator_dict['Jet_%sCvsLDisc'%tagger]['c'])\n",
    "            tagged_c = len(discriminator_dict['Jet_%sCvsLDisc'%tagger]['c'][tag_mask_c])\n",
    "            eff_c = float(tagged_c) / float(all_c)\n",
    "\n",
    "            current_best_mistag = [eff_light,eff_b]\n",
    "\n",
    "            stepsize *=decay\n",
    "\n",
    "\n",
    "            niter+=1\n",
    "            if niter>max_niter: break\n",
    "\n",
    "        print tagger, wp #, eff_c,current_best_mistag,current_best_cut,distance(current_best_mistag,wp_mistag)\n",
    "        out_dict[tagger][wp][\"cut CvsL\"] = current_best_cut[0]\n",
    "        out_dict[tagger][wp][\"cut CvsB\"] = current_best_cut[1]\n",
    "        out_dict[tagger][wp][\"Eff charm\"] = eff_c\n",
    "        out_dict[tagger][wp][\"Eff light\"] = current_best_mistag[0]\n",
    "        out_dict[tagger][wp][\"Eff bottom\"] = current_best_mistag[1]\n",
    "        \n",
    "        \n",
    "        \n",
    "        \n",
    "data = [[\"Tagger\",\"WP\",\"cut CvsL\",\"cut CvsB\",\"Eff charm\",\"Eff bottom\",\"Eff light\"],\n",
    "        [\"DeepCSV\",\"loose\",\"%.3f\"%out_dict[\"DeepCSV\"][\"loose\"][\"cut CvsL\"],\"%.3f\"%out_dict[\"DeepCSV\"][\"loose\"][\"cut CvsB\"],\"%.1f%%\"%(100*out_dict[\"DeepCSV\"][\"loose\"][\"Eff charm\"]),\"%.1f%%\"%(100*out_dict[\"DeepCSV\"][\"loose\"][\"Eff bottom\"]),\"%.1f%%\"%(100*out_dict[\"DeepCSV\"][\"loose\"][\"Eff light\"])],\n",
    "        [\"\",\"medium\",\"%.3f\"%out_dict[\"DeepCSV\"][\"medium\"][\"cut CvsL\"],\"%.3f\"%out_dict[\"DeepCSV\"][\"medium\"][\"cut CvsB\"],\"%.1f%%\"%(100*out_dict[\"DeepCSV\"][\"medium\"][\"Eff charm\"]),\"%.1f%%\"%(100*out_dict[\"DeepCSV\"][\"medium\"][\"Eff bottom\"]),\"%.1f%%\"%(100*out_dict[\"DeepCSV\"][\"medium\"][\"Eff light\"])],\n",
    "        [\"\",\"tight\",\"%.3f\"%out_dict[\"DeepCSV\"][\"tight\"][\"cut CvsL\"],\"%.3f\"%out_dict[\"DeepCSV\"][\"tight\"][\"cut CvsB\"],\"%.1f%%\"%(100*out_dict[\"DeepCSV\"][\"tight\"][\"Eff charm\"]),\"%.1f%%\"%(100*out_dict[\"DeepCSV\"][\"tight\"][\"Eff bottom\"]),\"%.1f%%\"%(100*out_dict[\"DeepCSV\"][\"tight\"][\"Eff light\"])],\n",
    "        [\"\",\"\",\"\",\"\",\"\",\"\",\"\"],\n",
    "        [\"DeepJet\",\"loose\",\"%.3f\"%out_dict[\"DeepFlavour\"][\"loose\"][\"cut CvsL\"],\"%.3f\"%out_dict[\"DeepFlavour\"][\"loose\"][\"cut CvsB\"],\"%.1f%%\"%(100*out_dict[\"DeepFlavour\"][\"loose\"][\"Eff charm\"]),\"%.1f%%\"%(100*out_dict[\"DeepFlavour\"][\"loose\"][\"Eff bottom\"]),\"%.1f%%\"%(100*out_dict[\"DeepFlavour\"][\"loose\"][\"Eff light\"])],\n",
    "        [\"\",\"medium\",\"%.3f\"%out_dict[\"DeepFlavour\"][\"medium\"][\"cut CvsL\"],\"%.3f\"%out_dict[\"DeepFlavour\"][\"medium\"][\"cut CvsB\"],\"%.1f%%\"%(100*out_dict[\"DeepFlavour\"][\"medium\"][\"Eff charm\"]),\"%.1f%%\"%(100*out_dict[\"DeepFlavour\"][\"medium\"][\"Eff bottom\"]),\"%.1f%%\"%(100*out_dict[\"DeepFlavour\"][\"medium\"][\"Eff light\"])],\n",
    "        [\"\",\"tight\",\"%.3f\"%out_dict[\"DeepFlavour\"][\"tight\"][\"cut CvsL\"],\"%.3f\"%out_dict[\"DeepFlavour\"][\"tight\"][\"cut CvsB\"],\"%.1f%%\"%(100*out_dict[\"DeepFlavour\"][\"tight\"][\"Eff charm\"]),\"%.1f%%\"%(100*out_dict[\"DeepFlavour\"][\"tight\"][\"Eff bottom\"]),\"%.1f%%\"%(100*out_dict[\"DeepFlavour\"][\"tight\"][\"Eff light\"])],\n",
    "         \n",
    "       ]\n",
    "\n",
    "display(HTML(\n",
    "   '<table><tr>{}</tr></table>'.format(\n",
    "       '</tr><tr>'.join(\n",
    "           '<td>{}</td>'.format('</td><td>'.join(str(_) for _ in row)) for row in data)\n",
    "       )\n",
    "))\n",
    "       \n"
   ]
  },
  {
   "cell_type": "code",
   "execution_count": null,
   "metadata": {},
   "outputs": [],
   "source": []
  },
  {
   "cell_type": "code",
   "execution_count": null,
   "metadata": {},
   "outputs": [],
   "source": []
  },
  {
   "cell_type": "code",
   "execution_count": 11,
   "metadata": {},
   "outputs": [],
   "source": [
    "#os.system('dasgoclient -query=\"file dataset=/QCD_Pt_80to120_TuneCP5_13TeV_pythia8/RunIISummer19UL18NanoAOD-PUForMUOVal_106X_upgrade2018_realistic_v11_L1v1-v3/NANOAODSIM\" > files.txt')\n",
    "#os.system('dasgoclient -query=\"file dataset=/TTTo2L2Nu_TuneCP5up_13TeV-powheg-pythia8/RunIISummer19UL18NanoAOD-106X_upgrade2018_realistic_v11_L1v1-v2/NANOAODSIM\" > files.txt')\n"
   ]
  },
  {
   "cell_type": "code",
   "execution_count": 10,
   "metadata": {},
   "outputs": [
    {
     "name": "stdout",
     "output_type": "stream",
     "text": [
      "found 221 files in 'files.txt'\n"
     ]
    }
   ],
   "source": [
    "# input_files = open(\"files.txt\",\"r\")\n",
    "# infile_array = []\n",
    "# for idx,f_ in enumerate(input_files.readlines()):\n",
    "#     infile_array.append(f_.replace(\"\\n\",\"\"))\n",
    "    \n",
    "# input_files.close()\n",
    "# print \"found %i files in 'files.txt'\"%(idx+1)\n",
    "# #print infile_array"
   ]
  },
  {
   "cell_type": "code",
   "execution_count": 10,
   "metadata": {},
   "outputs": [],
   "source": [
    "# f = uproot.open('root://xrootd-cms.infn.it//store/user/smoortga/BTagServiceWork/CTaggerWPs_2017_UltraLegacy/QCD_Pt_80to120_TuneCP5_13TeV_pythia8_RunIISummer19UL17MiniAOD-106X_mc2017_realistic_v6-v2_MINIAODSIM/QCD_Pt_80to120_TuneCP5_13TeV_pythia8/crab_BTagAnalyzer_CTagWP_2017_UltraLegacy/200116_133349/0000/JetTree_mc_1.root')\n",
    "# t = f['btagana/ttree']\n",
    "# t.keys()"
   ]
  }
 ],
 "metadata": {
  "kernelspec": {
   "display_name": "Python 2",
   "language": "python",
   "name": "python2"
  }
 },
 "nbformat": 4,
 "nbformat_minor": 2
}
